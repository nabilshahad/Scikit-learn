{
  "nbformat": 4,
  "nbformat_minor": 0,
  "metadata": {
    "colab": {
      "provenance": [],
      "mount_file_id": "1kdJ1G7pF59_4FC7Wn1j1ri3O7iGdeRub",
      "authorship_tag": "ABX9TyNJfd1yVGLE/BGXzO+nMrsJ",
      "include_colab_link": true
    },
    "kernelspec": {
      "name": "python3",
      "display_name": "Python 3"
    },
    "language_info": {
      "name": "python"
    }
  },
  "cells": [
    {
      "cell_type": "markdown",
      "metadata": {
        "id": "view-in-github",
        "colab_type": "text"
      },
      "source": [
        "<a href=\"https://colab.research.google.com/github/nabilshahad/Scikit-learn/blob/main/SKlearn1.ipynb\" target=\"_parent\"><img src=\"https://colab.research.google.com/assets/colab-badge.svg\" alt=\"Open In Colab\"/></a>"
      ]
    },
    {
      "cell_type": "code",
      "execution_count": 5,
      "metadata": {
        "colab": {
          "base_uri": "https://localhost:8080/"
        },
        "id": "vcIdH2CmYmik",
        "outputId": "432a6dac-d116-480b-d000-c2efc13962a2"
      },
      "outputs": [
        {
          "output_type": "stream",
          "name": "stdout",
          "text": [
            "column name ['sepal length (cm)', 'sepal width (cm)', 'petal length (cm)', 'petal width (cm)']\n",
            "target name ['setosa' 'versicolor' 'virginica']\n",
            "First 10 Rows\n",
            " [[5.1 3.5 1.4 0.2]\n",
            " [4.9 3.  1.4 0.2]\n",
            " [4.7 3.2 1.3 0.2]\n",
            " [4.6 3.1 1.5 0.2]\n",
            " [5.  3.6 1.4 0.2]]\n"
          ]
        }
      ],
      "source": [
        "from sklearn.datasets import load_iris\n",
        "iris = load_iris()\n",
        "x = iris.data\n",
        "col_names= iris.feature_names\n",
        "target_names=iris.target_names\n",
        "print(\"column name\",col_names)\n",
        "print(\"target name\",target_names)\n",
        "print(\"First 10 Rows\\n\",x[:5])"
      ]
    },
    {
      "cell_type": "code",
      "source": [],
      "metadata": {
        "id": "ogQCiZKbZx5C"
      },
      "execution_count": null,
      "outputs": []
    },
    {
      "cell_type": "markdown",
      "source": [
        "Linear Regression\n"
      ],
      "metadata": {
        "id": "_asBsOktbXqS"
      }
    },
    {
      "cell_type": "code",
      "source": [
        "import pandas as pd\n",
        "from sklearn.datasets import load_iris\n",
        "iris = load_iris()\n",
        "df =pd.DataFrame(data=iris.data,columns=iris.feature_names)"
      ],
      "metadata": {
        "id": "AHmb3V3NbePY"
      },
      "execution_count": 6,
      "outputs": []
    },
    {
      "cell_type": "code",
      "source": [
        "#EDA\n",
        "df.head()\n",
        "df.shape\n",
        "df.plot.scatter(x='petal width (cm)',y='petal length (cm)',title='scatterplot')\n",
        "print(df.corr())\n",
        "print(df.describe())"
      ],
      "metadata": {
        "colab": {
          "base_uri": "https://localhost:8080/",
          "height": 993
        },
        "id": "h1LaOG_ib_Zx",
        "outputId": "8b89ede1-205c-44cb-953d-b09049271219"
      },
      "execution_count": 9,
      "outputs": [
        {
          "output_type": "stream",
          "name": "stdout",
          "text": [
            "                   sepal length (cm)  sepal width (cm)  petal length (cm)  \\\n",
            "sepal length (cm)           1.000000         -0.117570           0.871754   \n",
            "sepal width (cm)           -0.117570          1.000000          -0.428440   \n",
            "petal length (cm)           0.871754         -0.428440           1.000000   \n",
            "petal width (cm)            0.817941         -0.366126           0.962865   \n",
            "\n",
            "                   petal width (cm)  \n",
            "sepal length (cm)          0.817941  \n",
            "sepal width (cm)          -0.366126  \n",
            "petal length (cm)          0.962865  \n",
            "petal width (cm)           1.000000  \n",
            "       sepal length (cm)  sepal width (cm)  petal length (cm)  \\\n",
            "count         150.000000        150.000000         150.000000   \n",
            "mean            5.843333          3.057333           3.758000   \n",
            "std             0.828066          0.435866           1.765298   \n",
            "min             4.300000          2.000000           1.000000   \n",
            "25%             5.100000          2.800000           1.600000   \n",
            "50%             5.800000          3.000000           4.350000   \n",
            "75%             6.400000          3.300000           5.100000   \n",
            "max             7.900000          4.400000           6.900000   \n",
            "\n",
            "       petal width (cm)  \n",
            "count        150.000000  \n",
            "mean           1.199333  \n",
            "std            0.762238  \n",
            "min            0.100000  \n",
            "25%            0.300000  \n",
            "50%            1.300000  \n",
            "75%            1.800000  \n",
            "max            2.500000  \n"
          ]
        },
        {
          "output_type": "display_data",
          "data": {
            "text/plain": [
              "<Figure size 640x480 with 1 Axes>"
            ],
            "image/png": "[encoded data removed]"
          },
          "metadata": {}
        }
      ]
    },
    {
      "cell_type": "code",
      "source": [
        "# pre processing\n",
        "y= df['petal width (cm)'].values.reshape(-1,1)\n",
        "X =df['petal length (cm)'].values.reshape(-1,1)\n",
        "from sklearn.model_selection import train_test_split\n",
        "X_train,X_test,y_train,y_test= train_test_split(X,y,test_size=0.2)\n",
        "print(X_train)\n",
        "print(X_test)"
      ],
      "metadata": {
        "colab": {
          "base_uri": "https://localhost:8080/"
        },
        "id": "dpatEPWxc5lO",
        "outputId": "24d8057b-d2eb-4d7a-c236-786d4d601096"
      },
      "execution_count": 10,
      "outputs": [
        {
          "output_type": "stream",
          "name": "stdout",
          "text": [
            "[[3.9]\n",
            " [4.9]\n",
            " [4.2]\n",
            " [4.8]\n",
            " [4.4]\n",
            " [1.7]\n",
            " [5.5]\n",
            " [1.5]\n",
            " [6.7]\n",
            " [5. ]\n",
            " [1.5]\n",
            " [5.1]\n",
            " [3.5]\n",
            " [3.9]\n",
            " [5.5]\n",
            " [3.9]\n",
            " [1.6]\n",
            " [5. ]\n",
            " [1.5]\n",
            " [3.3]\n",
            " [1.4]\n",
            " [1.3]\n",
            " [5. ]\n",
            " [5.6]\n",
            " [4.5]\n",
            " [5.8]\n",
            " [4.1]\n",
            " [1.5]\n",
            " [5.9]\n",
            " [6.7]\n",
            " [1.3]\n",
            " [4.7]\n",
            " [1.4]\n",
            " [5.1]\n",
            " [4.7]\n",
            " [4.4]\n",
            " [4.5]\n",
            " [1.3]\n",
            " [1.6]\n",
            " [4.5]\n",
            " [6.6]\n",
            " [4.8]\n",
            " [1.5]\n",
            " [1.3]\n",
            " [1.7]\n",
            " [1.5]\n",
            " [1.4]\n",
            " [5.6]\n",
            " [4.5]\n",
            " [5.2]\n",
            " [4.6]\n",
            " [4.1]\n",
            " [4.2]\n",
            " [5.1]\n",
            " [5.3]\n",
            " [4.7]\n",
            " [4.2]\n",
            " [1.4]\n",
            " [1.5]\n",
            " [4.6]\n",
            " [3.6]\n",
            " [1.5]\n",
            " [4.3]\n",
            " [4. ]\n",
            " [4. ]\n",
            " [1.4]\n",
            " [1.4]\n",
            " [4.8]\n",
            " [4.1]\n",
            " [4.9]\n",
            " [4.6]\n",
            " [4.9]\n",
            " [1.4]\n",
            " [5.8]\n",
            " [6.9]\n",
            " [5.6]\n",
            " [5.1]\n",
            " [5.9]\n",
            " [4.8]\n",
            " [3.5]\n",
            " [1.5]\n",
            " [4.9]\n",
            " [5.7]\n",
            " [5.4]\n",
            " [4.5]\n",
            " [6. ]\n",
            " [5.1]\n",
            " [5. ]\n",
            " [4. ]\n",
            " [1.6]\n",
            " [1.4]\n",
            " [4.5]\n",
            " [1.7]\n",
            " [4.7]\n",
            " [1. ]\n",
            " [5.6]\n",
            " [4.3]\n",
            " [4. ]\n",
            " [5.4]\n",
            " [3.8]\n",
            " [5.7]\n",
            " [1.6]\n",
            " [6. ]\n",
            " [5.6]\n",
            " [3. ]\n",
            " [1.4]\n",
            " [6.3]\n",
            " [5.1]\n",
            " [1.3]\n",
            " [1.5]\n",
            " [5.5]\n",
            " [1.3]\n",
            " [1.6]\n",
            " [5.2]\n",
            " [5.3]\n",
            " [1.1]\n",
            " [1.4]\n",
            " [1.2]\n",
            " [1.2]\n",
            " [1.5]]\n",
            "[[4.2]\n",
            " [4.4]\n",
            " [5.8]\n",
            " [6.1]\n",
            " [1.5]\n",
            " [5.7]\n",
            " [3.7]\n",
            " [1.7]\n",
            " [1.9]\n",
            " [1.6]\n",
            " [1.6]\n",
            " [4.9]\n",
            " [6.4]\n",
            " [1.5]\n",
            " [1.4]\n",
            " [4.4]\n",
            " [4. ]\n",
            " [6.1]\n",
            " [1.4]\n",
            " [4.5]\n",
            " [5.1]\n",
            " [1.3]\n",
            " [4.5]\n",
            " [4.7]\n",
            " [1.9]\n",
            " [5.1]\n",
            " [1.4]\n",
            " [5.6]\n",
            " [3.3]\n",
            " [6.1]]\n"
          ]
        }
      ]
    },
    {
      "cell_type": "code",
      "source": [
        "#Train model\n",
        "from sklearn.linear_model import LinearRegression\n",
        "regressor = LinearRegression()\n",
        "regressor.fit(X_train,y_train)\n",
        "print(regressor.intercept_)\n",
        "print(regressor.coef_)"
      ],
      "metadata": {
        "colab": {
          "base_uri": "https://localhost:8080/"
        },
        "id": "T3goWiNQhpP4",
        "outputId": "296c9b7a-7d83-4ea3-862d-02cc6bfda8ae"
      },
      "execution_count": 11,
      "outputs": [
        {
          "output_type": "stream",
          "name": "stdout",
          "text": [
            "[-0.33836337]\n",
            "[[0.41027573]]\n"
          ]
        }
      ]
    },
    {
      "cell_type": "code",
      "source": [
        "#Predictions\n",
        "score = regressor.predict([[7.5]])\n",
        "print(score)"
      ],
      "metadata": {
        "colab": {
          "base_uri": "https://localhost:8080/"
        },
        "id": "7Fa8FP40ifuU",
        "outputId": "a1be8a33-81c3-48d9-c6dc-9e645e6a2b00"
      },
      "execution_count": 12,
      "outputs": [
        {
          "output_type": "stream",
          "name": "stdout",
          "text": [
            "[[2.73870464]]\n"
          ]
        }
      ]
    },
    {
      "cell_type": "code",
      "source": [
        "def calc(slope,intercept,value):\n",
        "  return slope*value+intercept"
      ],
      "metadata": {
        "id": "7XenTNEbjKam"
      },
      "execution_count": 13,
      "outputs": []
    },
    {
      "cell_type": "code",
      "source": [
        "score=calc(regressor.coef_,regressor.intercept_,7.5)\n",
        "print(score)"
      ],
      "metadata": {
        "colab": {
          "base_uri": "https://localhost:8080/"
        },
        "id": "inniy0ZGjjTS",
        "outputId": "a15a4285-5f1d-4a83-a7a2-0e46e2634d15"
      },
      "execution_count": 14,
      "outputs": [
        {
          "output_type": "stream",
          "name": "stdout",
          "text": [
            "[[2.73870464]]\n"
          ]
        }
      ]
    },
    {
      "cell_type": "code",
      "source": [
        "y_pred= regressor.predict(X_test)\n",
        "df_pred = pd.DataFrame({'Actual':y_test.squeeze(),'Predicted':y_pred.squeeze()})\n",
        "print(df_pred)"
      ],
      "metadata": {
        "colab": {
          "base_uri": "https://localhost:8080/"
        },
        "id": "_OER6HQtjzCi",
        "outputId": "fec4c5a5-b086-4616-cbcd-b6434107517b"
      },
      "execution_count": 15,
      "outputs": [
        {
          "output_type": "stream",
          "name": "stdout",
          "text": [
            "    Actual  Predicted\n",
            "0      1.3   1.384795\n",
            "1      1.4   1.466850\n",
            "2      1.8   2.041236\n",
            "3      2.5   2.164319\n",
            "4      0.2   0.277050\n",
            "5      2.1   2.000208\n",
            "6      1.0   1.179657\n",
            "7      0.2   0.359105\n",
            "8      0.4   0.441161\n",
            "9      0.2   0.318078\n",
            "10     0.2   0.318078\n",
            "11     1.5   1.671988\n",
            "12     2.0   2.287401\n",
            "13     0.2   0.277050\n",
            "14     0.2   0.236023\n",
            "15     1.2   1.466850\n",
            "16     1.2   1.302740\n",
            "17     2.3   2.164319\n",
            "18     0.2   0.236023\n",
            "19     1.7   1.507877\n",
            "20     1.8   1.754043\n",
            "21     0.3   0.194995\n",
            "22     1.6   1.507877\n",
            "23     1.5   1.589933\n",
            "24     0.2   0.441161\n",
            "25     2.4   1.754043\n",
            "26     0.2   0.236023\n",
            "27     2.4   1.959181\n",
            "28     1.0   1.015547\n",
            "29     1.9   2.164319\n"
          ]
        }
      ]
    },
    {
      "cell_type": "code",
      "source": [
        "#Evaluating the model\n",
        "from sklearn.metrics import mean_absolute_error,mean_squared_error\n",
        "import numpy as np\n",
        "mae= mean_absolute_error(y_test,y_pred)\n",
        "mse =mean_squared_error(y_test,y_pred)\n",
        "rmse=np.sqrt(mse)\n",
        "print(mse)\n",
        "print(mae)\n",
        "print(rmse)\n"
      ],
      "metadata": {
        "colab": {
          "base_uri": "https://localhost:8080/"
        },
        "id": "v3GxXatRlCHQ",
        "outputId": "f91f2f90-451a-406a-c5c4-5cf81507b690"
      },
      "execution_count": 16,
      "outputs": [
        {
          "output_type": "stream",
          "name": "stdout",
          "text": [
            "0.04380846138037837\n",
            "0.16014006799854197\n",
            "0.2093047094080264\n"
          ]
        }
      ]
    },
    {
      "cell_type": "code",
      "source": [],
      "metadata": {
        "id": "pAR_xacjmaaC"
      },
      "execution_count": null,
      "outputs": []
    }
  ]
}